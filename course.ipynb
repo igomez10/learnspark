{
 "cells": [
  {
   "cell_type": "code",
   "execution_count": null,
   "id": "1dd7c0f2",
   "metadata": {},
   "outputs": [
    {
     "name": "stdout",
     "output_type": "stream",
     "text": [
      "+-----+\n",
      "|hello|\n",
      "+-----+\n",
      "|world|\n",
      "|world|\n",
      "|world|\n",
      "|world|\n",
      "|world|\n",
      "+-----+\n",
      "only showing top 5 rows\n"
     ]
    }
   ],
   "source": [
    "from pyspark.sql import DataFrame, SparkSession\n",
    "\n",
    "spark = SparkSession.builder.appName(\"example\").getOrCreate()\n",
    "df = spark.createDataFrame([{\"hello\": \"world\"} for _ in range(100)])\n",
    "df.show(5, truncate=False)"
   ]
  },
  {
   "cell_type": "code",
   "execution_count": 15,
   "id": "ee4ccdaa",
   "metadata": {},
   "outputs": [
    {
     "data": {
      "text/plain": [
       "['id,midinmueble,contactphone,whatsapp,title,link,imagelink,whatsappmessage,badge,mtipoinmuebleid,mtipoinmueblenombre,mtiponegocio,mvalorventa,mvalorarriendo,marea,mareac,mnrocuartos,mnrobanos,mnrogarajes,mciudadid,mciudadnombre,mzonaid,mzonanombre,mbarrio,mnombrecomunbarrio,datamvaloradministracion,datamprimerafotoinmueble,datamurldetalle,mnombreconstructor,mnombreproyecto,midempresa,mcontactoinmobiliaria_fijo1,mestadoinmueble,mcontactosucursal_celular1,mzona,venta_m2,arriendo_m2,latitud,longitud,created_at,last_seen_at,updated_at,price,price_sqm',\n",
       " '100852056,17724-M5946250,,,\"Casa en Venta, Aposentos, Sopo (Incluye Yerbabuena)\",/inmueble/venta-casa-sopo-incluye-yerbabuena-aposentos-4-habitaciones-4-banos-4-garajes/17724-M5946250,https://multimedia.metrocuadrado.com/17724-M5946250/17724-M5946250_1_p.jpg,,,2,Casa,venta,3870000000.0,,490.0,490.0,4.0,4.0,4.0,68,Sopo (Incluye Yerbabuena),,,aposentos,aposentos,2500000.0,17724-M5946250_1,/inmueble/venta-casa-sopo-incluye-yerbabuena-aposentos-4-habitaciones-4-banos-4-garajes/17724-M5946250,,,0,,Usado,,,7897959.0,,4.938987,-73.97659,2025-07-21 03:58:14.611456+00:00,2025-07-21 03:58:26.501013+00:00,2025-07-21 03:58:14.611456+00:00,3870000000.0,7897959.0']"
      ]
     },
     "execution_count": 15,
     "metadata": {},
     "output_type": "execute_result"
    }
   ],
   "source": [
    "# /Users/ignacio/puttyknife/ml/puttyknife.csv\n",
    "rdd = spark.sparkContext.textFile(\n",
    "    \"/Users/ignacio/puttyknife/ml/puttyknife.csv\"\n",
    ")\n",
    "rdd.take(2)\n",
    "#"
   ]
  },
  {
   "cell_type": "code",
   "execution_count": 19,
   "id": "96d239f4",
   "metadata": {},
   "outputs": [
    {
     "name": "stdout",
     "output_type": "stream",
     "text": [
      "+-------------+------+\n",
      "|mciudadnombre|count |\n",
      "+-------------+------+\n",
      "|Bogotá D.C.  |373921|\n",
      "|Medellín     |88412 |\n",
      "|Cali         |72717 |\n",
      "|Barranquilla |46539 |\n",
      "|Envigado     |28454 |\n",
      "+-------------+------+\n",
      "only showing top 5 rows\n"
     ]
    }
   ],
   "source": [
    "# show first 5 lines\n",
    "# schema ['id,midinmueble,contactphone,whatsapp,title,link,imagelink,whatsappmessage,badge,mtipoinmuebleid,mtipoinmueblenombre,mtiponegocio,mvalorventa,mvalorarriendo,marea,mareac,mnrocuartos,mnrobanos,mnrogarajes,mciudadid,mciudadnombre,mzonaid,mzonanombre,mbarrio,mnombrecomunbarrio,datamvaloradministracion,datamprimerafotoinmueble,datamurldetalle,mnombreconstructor,mnombreproyecto,midempresa,mcontactoinmobiliaria_fijo1,mestadoinmueble,mcontactosucursal_celular1,mzona,venta_m2,arriendo_m2,latitud,longitud,created_at,last_seen_at,updated_at,price,price_sqm',\n",
    "\n",
    "\n",
    "df1: DataFrame\n",
    "df1 = spark.read.option(\"header\", True).csv(\n",
    "    \"/Users/ignacio/puttyknife/ml/puttyknife.csv\",\n",
    "    header=True,\n",
    "    # schema=schema1,\n",
    ")\n",
    "# df1.show(5, truncate=False)\n",
    "\n",
    "\n",
    "# group by mciudadnombre and count, order by descending count\n",
    "df1.groupBy(\"mciudadnombre\").count().orderBy(\"count\", ascending=False).show(\n",
    "    5, truncate=False\n",
    ")\n"
   ]
  }
 ],
 "metadata": {
  "kernelspec": {
   "display_name": "venv",
   "language": "python",
   "name": "python3"
  },
  "language_info": {
   "codemirror_mode": {
    "name": "ipython",
    "version": 3
   },
   "file_extension": ".py",
   "mimetype": "text/x-python",
   "name": "python",
   "nbconvert_exporter": "python",
   "pygments_lexer": "ipython3",
   "version": "3.13.5"
  }
 },
 "nbformat": 4,
 "nbformat_minor": 5
}
